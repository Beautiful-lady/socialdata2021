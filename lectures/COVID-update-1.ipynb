{
 "cells": [
  {
   "cell_type": "markdown",
   "metadata": {},
   "source": [
    "# COVID-19 Update January 27, 2020\n",
    "\n",
    "Hey All! \n",
    "\n",
    "I don't know if you've noticed, but there's a global pandemic raging. \n",
    "Yes, I'm talking about good old COVID-19. I'm as tired of this d#mn thing as you are.\n",
    "\n",
    "### COVID-19 Plans\n",
    "\n",
    "We can't be sure how long the current lock-down will last. \n",
    "Even if we open back up, I know from talking to many students last year that some of you are worried and won't necessarily want to come to class. \n",
    "For that reason, I have designed the class in such a way that \n",
    "\n",
    "* **It will always possible to follow the class without showing up**. All important information, including introductory lectures will be available online - on the course website. \n",
    "* Thus, even if teaching in person resumes, if you'd like, you don't have to come.\n",
    "* If/When we open DTU back up, I have detailed plans for how to run the course in the safest way possible, including physical presence.\n",
    "\n",
    "The way the class is already set up, it works well for online-only teaching (see \"How to take this class for details\"), but we need new ways of interacting with the TAs and yours truly. Those are explained below. "
   ]
  },
  {
   "cell_type": "code",
   "execution_count": null,
   "metadata": {},
   "outputs": [],
   "source": [
    "# short video explaining the plans\n"
   ]
  },
  {
   "cell_type": "markdown",
   "metadata": {},
   "source": [
    "## New ways of interacting with me and the TAs\n",
    "\n",
    "Below, I describe my solution to new ways of getting help with the exercise and.\n",
    "\n",
    "### Slack\n",
    "Based on many years of experience, I'm not a huge fan of CampusNet for class communication. So we're going to use Slack. Below is a link to sign up for the class workspace (it's socialgraphs2020.slack.com)\n",
    "\n",
    "> **[Sign-Up Link](https://join.slack.com/t/dtu-6yi3445/shared_invite/zt-lqzbsw4g-fPRYeuHnARVHQ4Vt~qc77A)**\n",
    "\n",
    "We will use Slack in the following way\n",
    "* *General Info*. All general course info will be posted by me in the `#general` channel. You may also ask general questions about the class there.\n",
    "* *Exercises and assignments*. Most of the questions you have about the material during the lectures should also be asked on Slack, but not in in the #general channel. Instad, I'll be starting a channel for each lecture, eg. `#lecture1_questions` and so on.\n",
    "\n",
    "The reason I like to use Slack for most questions is that they'll be there permanently. \n",
    "So if you ask a question there, others can find it and benefit from your answer. \n",
    "**Last semester, this worked super well. And Slack became a fantastic ressource for everyone in the course**.\n",
    "\n",
    "There will always be around five TAs monitoring slack for new questions.\n",
    "\n",
    "\n",
    "### Zoom\n",
    "\n",
    "Sometime, you need more than what Slack can deliver. It's a complicated thing that you need to talk about. Or your computer is acting strangely and you need screen sharing.\n",
    "\n",
    "For those times, we will use Zoom. It'll work in the following way. Each week, we will spin up a zoom meeting per TA (and for me) that you can access to ask questions. Links will be posted on slack -- in the general channels. There'll always be at least one TA available on Zoom."
   ]
  },
  {
   "cell_type": "code",
   "execution_count": null,
   "metadata": {},
   "outputs": [],
   "source": [
    "# short video on the new ways of interacting\n"
   ]
  }
 ],
 "metadata": {
  "kernelspec": {
   "display_name": "Python 3",
   "language": "python",
   "name": "python3"
  },
  "language_info": {
   "codemirror_mode": {
    "name": "ipython",
    "version": 3
   },
   "file_extension": ".py",
   "mimetype": "text/x-python",
   "name": "python",
   "nbconvert_exporter": "python",
   "pygments_lexer": "ipython3",
   "version": "3.7.9"
  }
 },
 "nbformat": 4,
 "nbformat_minor": 4
}
